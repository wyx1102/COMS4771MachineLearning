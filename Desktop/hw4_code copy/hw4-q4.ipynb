{
 "cells": [
  {
   "cell_type": "code",
   "execution_count": 248,
   "metadata": {
    "collapsed": true
   },
   "outputs": [],
   "source": [
    "import numpy as np\n",
    "import matplotlib.pyplot as plt"
   ]
  },
  {
   "cell_type": "code",
   "execution_count": 249,
   "metadata": {},
   "outputs": [],
   "source": [
    "d = np.array([\n",
    "    [0,206,429,1504,963,2976,3095,2979,1949],\n",
    "    [206,0,233,1308,802,2815,2934,2786,1771],\n",
    "    [429,233,0,1075,671,2684,2799,2631,1616],\n",
    "    [1504,1308,1075,0,1329,3273,3053,2687,2037],\n",
    "    [963,802,671,1329,0,2013,2142,2054,996],\n",
    "    [2976,2815,2684,3273,2013,0,808,1131,1307],\n",
    "    [3095,2934,2799,3053,2142,808,0,379,1235],\n",
    "    [2979,2786,2631,2687,2054,1131,379,0,1059],\n",
    "    [1949,1771,1616,2037,996,1307,1235,1059,0]\n",
    "])"
   ]
  },
  {
   "cell_type": "code",
   "execution_count": 217,
   "metadata": {
    "collapsed": true
   },
   "outputs": [],
   "source": [
    "l1 = []\n",
    "l2 = []\n",
    "for i in range(9):\n",
    "    l1.append(X_true[i][0])\n",
    "    l2.append(X_true[i][1])"
   ]
  },
  {
   "cell_type": "code",
   "execution_count": 302,
   "metadata": {
    "scrolled": true
   },
   "outputs": [
    {
     "name": "stdout",
     "output_type": "stream",
     "text": [
      "42.3604823 -71.0595678\n",
      "40.7306458 -73.9866136\n",
      "38.89366125 -76.987883253882\n",
      "25.7949789 -80.2867234109541\n",
      "41.8755546 -87.6244212\n",
      "47.4475673 -122.308015856951\n",
      "37.7647993 -122.4629897\n",
      "34.054935 -118.244476\n",
      "39.7391536 -104.9847034\n"
     ]
    }
   ],
   "source": [
    "from geopy.geocoders import Nominatim\n",
    "geolocator = Nominatim()\n",
    "city = ['Boston','NYC','DC','MIA','Chicago','SEA','SF','Los Angeles','Denver']\n",
    "lat = []\n",
    "lon = []\n",
    "for i in range(len(city)):\n",
    "    loc1 = geolocator.geocode(city[i])\n",
    "    lat.append(loc1.latitude)\n",
    "    lon.append(loc1.longitude)\n",
    "    print(loc1.latitude, loc1.longitude)"
   ]
  },
  {
   "cell_type": "code",
   "execution_count": 284,
   "metadata": {},
   "outputs": [
    {
     "name": "stdout",
     "output_type": "stream",
     "text": [
      "[[ 19.10906134  35.97644489]\n",
      " [  6.47117069  11.79312744]\n",
      " [ 40.52079251  20.32097372]\n",
      " [ 50.35422552  66.83213703]\n",
      " [ 52.22742552  35.32434446]\n",
      " [ 85.68859129  24.56769068]\n",
      " [ 24.94591621  17.80045423]\n",
      " [ 45.52501995  58.04455847]\n",
      " [ 58.17644456  80.95128675]]\n",
      "0\n",
      "40371554.7006\n",
      "1\n",
      "10344371.7824\n",
      "2\n",
      "1835579.79347\n",
      "3\n",
      "614410.502319\n",
      "4\n",
      "370384.985776\n",
      "5\n",
      "259623.581138\n",
      "6\n",
      "185817.718267\n",
      "7\n",
      "132780.149134\n",
      "8\n",
      "97642.4030922\n",
      "9\n",
      "77530.028491\n",
      "10\n",
      "67188.6971707\n",
      "11\n",
      "62102.7242066\n",
      "12\n",
      "59561.8085789\n",
      "13\n",
      "58234.7386113\n",
      "14\n",
      "57504.0457885\n",
      "15\n",
      "57081.6891604\n",
      "16\n",
      "56827.5130794\n",
      "17\n",
      "56669.6640062\n",
      "18\n",
      "56569.2855438\n",
      "19\n",
      "56504.3162653\n",
      "20\n",
      "56461.7033249\n",
      "21\n",
      "56433.4649318\n",
      "22\n",
      "56414.5956496\n",
      "23\n",
      "56401.8968487\n",
      "24\n",
      "56393.2957085\n",
      "25\n",
      "56387.4347004\n",
      "26\n",
      "56383.4173755\n",
      "27\n",
      "56380.647721\n",
      "28\n",
      "56378.7271183\n",
      "29\n",
      "56377.3875113\n",
      "30\n",
      "56376.447695\n",
      "31\n",
      "56375.784537\n",
      "32\n",
      "56375.3139253\n",
      "33\n",
      "56374.9780933\n",
      "34\n",
      "56374.7371496\n",
      "35\n",
      "56374.5633915\n",
      "36\n",
      "56374.4374716\n",
      "37\n",
      "56374.3457996\n",
      "38\n",
      "56374.2787751\n",
      "39\n",
      "56374.2295776\n",
      "40\n",
      "56374.1933348\n",
      "41\n",
      "56374.1665477\n",
      "42\n",
      "56374.1466904\n",
      "43\n",
      "56374.1319311\n",
      "44\n",
      "56374.1209348\n",
      "45\n",
      "56374.1127247\n",
      "46\n",
      "56374.1065836\n",
      "47\n",
      "56374.1019824\n",
      "48\n",
      "56374.0985301\n",
      "49\n",
      "56374.0959365\n",
      "50\n",
      "56374.0939859\n",
      "51\n",
      "56374.0925174\n",
      "52\n",
      "56374.0914111\n",
      "53\n",
      "56374.090577\n",
      "54\n",
      "56374.0899477\n",
      "55\n",
      "56374.0894727\n",
      "56\n",
      "56374.089114\n",
      "57\n",
      "56374.088843\n",
      "58\n",
      "56374.0886382\n",
      "59\n",
      "56374.0884834\n",
      "60\n",
      "56374.0883663\n",
      "61\n",
      "56374.0882778\n",
      "62\n",
      "56374.0882109\n",
      "63\n",
      "56374.0881602\n",
      "64\n",
      "56374.0881219\n",
      "65\n",
      "56374.0880929\n",
      "66\n",
      "56374.0880709\n",
      "67\n",
      "56374.0880543\n",
      "68\n",
      "56374.0880418\n",
      "69\n",
      "56374.0880322\n",
      "70\n",
      "56374.088025\n",
      "71\n",
      "56374.0880196\n",
      "72\n",
      "56374.0880155\n",
      "73\n",
      "56374.0880123\n",
      "74\n",
      "56374.08801\n",
      "75\n",
      "56374.0880082\n",
      "76\n",
      "56374.0880068\n",
      "77\n",
      "56374.0880058\n",
      "78\n",
      "56374.088005\n",
      "79\n",
      "56374.0880044\n",
      "80\n",
      "56374.088004\n",
      "81\n",
      "56374.0880037\n",
      "82\n",
      "56374.0880034\n",
      "83\n",
      "56374.0880032\n",
      "84\n",
      "56374.0880031\n",
      "85\n",
      "56374.0880029\n",
      "86\n",
      "56374.0880029\n",
      "87\n",
      "56374.0880028\n",
      "88\n",
      "56374.0880028\n",
      "89\n",
      "56374.0880027\n",
      "90\n",
      "56374.0880027\n",
      "91\n",
      "56374.0880027\n",
      "92\n",
      "56374.0880027\n",
      "93\n",
      "56374.0880026\n",
      "94\n",
      "56374.0880026\n",
      "95\n",
      "56374.0880026\n",
      "96\n",
      "56374.0880026\n",
      "97\n",
      "56374.0880026\n",
      "98\n",
      "56374.0880026\n",
      "99\n",
      "56374.0880026\n",
      "100\n",
      "56374.0880026\n",
      "101\n",
      "56374.0880026\n",
      "102\n",
      "56374.0880026\n",
      "103\n",
      "56374.0880026\n",
      "104\n",
      "56374.0880026\n",
      "105\n",
      "56374.0880026\n",
      "106\n",
      "56374.0880026\n",
      "107\n",
      "56374.0880026\n",
      "108\n",
      "56374.0880026\n",
      "109\n",
      "56374.0880026\n",
      "110\n",
      "56374.0880026\n",
      "111\n",
      "56374.0880026\n",
      "112\n",
      "56374.0880026\n",
      "113\n",
      "56374.0880026\n",
      "114\n",
      "56374.0880026\n",
      "115\n",
      "56374.0880026\n",
      "116\n",
      "56374.0880026\n",
      "117\n",
      "56374.0880026\n",
      "118\n",
      "56374.0880026\n",
      "119\n",
      "56374.0880026\n",
      "120\n",
      "56374.0880026\n",
      "121\n",
      "56374.0880026\n",
      "122\n",
      "56374.0880026\n",
      "123\n",
      "56374.0880026\n",
      "124\n",
      "56374.0880026\n",
      "125\n",
      "56374.0880026\n",
      "126\n",
      "56374.0880026\n",
      "127\n",
      "56374.0880026\n",
      "128\n",
      "56374.0880026\n",
      "129\n",
      "56374.0880026\n",
      "130\n",
      "56374.0880026\n",
      "131\n",
      "56374.0880026\n",
      "132\n",
      "56374.0880026\n",
      "133\n",
      "56374.0880026\n",
      "134\n",
      "56374.0880026\n",
      "135\n",
      "56374.0880026\n",
      "136\n",
      "56374.0880026\n",
      "137\n",
      "56374.0880026\n",
      "138\n",
      "56374.0880026\n",
      "139\n",
      "56374.0880026\n",
      "140\n",
      "56374.0880026\n",
      "141\n",
      "56374.0880026\n",
      "142\n",
      "56374.0880026\n",
      "143\n",
      "56374.0880026\n",
      "[[-1527.66363129  -680.5361932 ]\n",
      " [-1381.70920214  -524.26205597]\n",
      " [-1256.68061648  -320.00736329]\n",
      " [-1361.67748061   781.39875648]\n",
      " [ -604.91991283  -365.22049732]\n",
      " [ 1398.82936511  -926.54356103]\n",
      " [ 1537.92643092  -122.56099175]\n",
      " [ 1317.72084395   209.36370131]\n",
      " [  354.39073486  -215.86541249]]\n",
      "56374.0880026\n"
     ]
    }
   ],
   "source": [
    "X= np.random.random(size = (9,2)) * 100\n",
    "print(X)\n",
    "iteration = 2000\n",
    "error = []\n",
    "error0 = 0\n",
    "iter = []\n",
    "for _ in range(iteration):\n",
    "    print(_)\n",
    "    iter.append(_)\n",
    "    for i in range(9):\n",
    "        #print(i)\n",
    "        diff = np.zeros((2,))\n",
    "        #print(diff + X[i])\n",
    "        for j in range(9):\n",
    "            if i != j:\n",
    "                diff += 2 * (np.linalg.norm(X[i] - X[j]) - d[i][j])/np.linalg.norm(X[i] - X[j]) * (X[i] - X[j]) * 0.1\n",
    "            #print(diff.shape)\n",
    "            #print(X[i].shape)\n",
    "        X[i] -= diff\n",
    "        #print(X)\n",
    "    error1 = 0\n",
    "    for i in range(9):\n",
    "        for j in range(9):\n",
    "            error1 += (np.linalg.norm(X[i] - X[j]) - d[i][j]) ** 2\n",
    "    print(error1)\n",
    "    error.append(error1)\n",
    "    if (error1 == error0):\n",
    "        print(X)\n",
    "        print(error1)\n",
    "        break\n",
    "    else:\n",
    "        error0 = error1\n",
    "   \n",
    "    "
   ]
  },
  {
   "cell_type": "code",
   "execution_count": 285,
   "metadata": {},
   "outputs": [
    {
     "name": "stdout",
     "output_type": "stream",
     "text": [
      "[[-1527.66363129  -680.5361932 ]\n",
      " [-1381.70920214  -524.26205597]\n",
      " [-1256.68061648  -320.00736329]\n",
      " [-1361.67748061   781.39875648]\n",
      " [ -604.91991283  -365.22049732]\n",
      " [ 1398.82936511  -926.54356103]\n",
      " [ 1537.92643092  -122.56099175]\n",
      " [ 1317.72084395   209.36370131]\n",
      " [  354.39073486  -215.86541249]]\n"
     ]
    }
   ],
   "source": [
    "print(X)"
   ]
  },
  {
   "cell_type": "code",
   "execution_count": 286,
   "metadata": {},
   "outputs": [
    {
     "name": "stdout",
     "output_type": "stream",
     "text": [
      "56374.0880026\n"
     ]
    }
   ],
   "source": [
    "print(error1)"
   ]
  },
  {
   "cell_type": "code",
   "execution_count": 287,
   "metadata": {},
   "outputs": [
    {
     "data": {
      "image/png": "[encoded data removed]",
      "text/plain": [
       "<matplotlib.figure.Figure at 0x1a10cb7f60>"
      ]
     },
     "metadata": {},
     "output_type": "display_data"
    }
   ],
   "source": [
    "plt.plot(iter,error)\n",
    "plt.show()"
   ]
  },
  {
   "cell_type": "code",
   "execution_count": 289,
   "metadata": {
    "collapsed": true
   },
   "outputs": [],
   "source": [
    "latitude = []\n",
    "longitude = []\n",
    "for i in range(9):\n",
    "    latitude.append(X[i][0])\n",
    "    longitude.append(X[i][1])"
   ]
  },
  {
   "cell_type": "code",
   "execution_count": 292,
   "metadata": {},
   "outputs": [
    {
     "name": "stdout",
     "output_type": "stream",
     "text": [
      "[ 0.3230511   0.28812991  0.95051752  0.66707434  0.35747507  0.14539226\n",
      "  0.11597615  0.71352693  0.87906137]\n"
     ]
    },
    {
     "data": {
      "image/png": "[encoded data removed]",
      "text/plain": [
       "<matplotlib.figure.Figure at 0x1a10daccf8>"
      ]
     },
     "metadata": {},
     "output_type": "display_data"
    }
   ],
   "source": [
    "colors = np.random.rand(9)\n",
    "print(colors)\n",
    "plt.scatter(latitude, longitude,c = colors)\n",
    "for i, c in enumerate(city):\n",
    "    plt.annotate(c, (latitude[i], longitude[i]))\n",
    "\n",
    "plt.show()"
   ]
  },
  {
   "cell_type": "code",
   "execution_count": 303,
   "metadata": {},
   "outputs": [
    {
     "data": {
      "image/png": "[encoded data removed]",
      "text/plain": [
       "<matplotlib.figure.Figure at 0x1a11a532e8>"
      ]
     },
     "metadata": {},
     "output_type": "display_data"
    },
    {
     "data": {
      "text/plain": [
       "<matplotlib.figure.Figure at 0x1a119a45c0>"
      ]
     },
     "metadata": {},
     "output_type": "display_data"
    }
   ],
   "source": [
    "plt.scatter(lon, lat, c = colors)\n",
    "\n",
    "for i, c in enumerate(city):\n",
    "    plt.annotate(c, (lon[i], lat[i]))\n",
    "plt.figure(figsize = (200,80))\n",
    "plt.show()"
   ]
  },
  {
   "cell_type": "code",
   "execution_count": null,
   "metadata": {
    "collapsed": true
   },
   "outputs": [],
   "source": [
    "vincent.scatter(l1)"
   ]
  },
  {
   "cell_type": "code",
   "execution_count": null,
   "metadata": {
    "collapsed": true
   },
   "outputs": [],
   "source": []
  }
 ],
 "metadata": {
  "kernelspec": {
   "display_name": "Python 3",
   "language": "python",
   "name": "python3"
  },
  "language_info": {
   "codemirror_mode": {
    "name": "ipython",
    "version": 3
   },
   "file_extension": ".py",
   "mimetype": "text/x-python",
   "name": "python",
   "nbconvert_exporter": "python",
   "pygments_lexer": "ipython3",
   "version": "3.6.2"
  }
 },
 "nbformat": 4,
 "nbformat_minor": 2
}
